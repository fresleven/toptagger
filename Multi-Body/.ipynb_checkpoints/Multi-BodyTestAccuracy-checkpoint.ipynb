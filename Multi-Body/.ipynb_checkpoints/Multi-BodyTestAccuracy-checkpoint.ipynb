{
 "cells": [
  {
   "cell_type": "code",
   "execution_count": 13,
   "id": "34a2ac1a",
   "metadata": {},
   "outputs": [
    {
     "data": {
      "text/plain": [
       "Net(\n",
       "  (dense1): Linear(in_features=26, out_features=200, bias=True)\n",
       "  (dense2): Linear(in_features=200, out_features=200, bias=True)\n",
       "  (dense3): Linear(in_features=200, out_features=50, bias=True)\n",
       "  (dense4): Linear(in_features=50, out_features=50, bias=True)\n",
       "  (dense5): Linear(in_features=50, out_features=2, bias=True)\n",
       "  (relu): ReLU()\n",
       "  (dropout1): Dropout(p=0.1, inplace=False)\n",
       "  (dropout2): Dropout(p=0.2, inplace=False)\n",
       "  (softmax): Softmax(dim=0)\n",
       ")"
      ]
     },
     "execution_count": 13,
     "metadata": {},
     "output_type": "execute_result"
    }
   ],
   "source": [
    "from multidataset import MultiDataset\n",
    "from multibodymodel import Net as Model\n",
    "import numpy as np\n",
    "from tqdm import tqdm\n",
    "import torch\n",
    "from torch.utils.data import DataLoader\n",
    "from utils import accuracy\n",
    "\n",
    "#Parameters to change, can change model_type to 'best' or 'last'\n",
    "use_jet_mass = True\n",
    "N = 8\n",
    "model_type = 'best' \n",
    "#Testing path\n",
    "test_path = '../../datasets/n-subjettiness_data/test_all.npy'\n",
    "\n",
    "#model path\n",
    "model_path = 'models/MultiBody' + str(N) + '-Subjettiness_mass' +str(use_jet_mass)+'_'+ model_type\n",
    "#num of features\n",
    "features = 3*N\n",
    "if use_jet_mass:\n",
    "    features+=2\n",
    "else:\n",
    "    features+=1\n",
    "\n",
    "#Loading testing dataset\n",
    "test_set = MultiDataset(test_path, N, use_jet_mass)\n",
    "testloader = DataLoader(test_set, batch_size=1024, shuffle=True, num_workers=50, pin_memory=True, persistent_workers=True)\n",
    "    \n",
    "#loading model\n",
    "model = Model(features).double().cuda()\n",
    "model.load_state_dict(torch.load(model_path))\n",
    "model.eval()"
   ]
  },
  {
   "cell_type": "code",
   "execution_count": 14,
   "id": "969d6606",
   "metadata": {},
   "outputs": [
    {
     "name": "stderr",
     "output_type": "stream",
     "text": [
      "  0%|                                                                                                                                               | 0/391 [00:01<?, ?it/s]"
     ]
    },
    {
     "name": "stdout",
     "output_type": "stream",
     "text": [
      "torch.Size([1024, 26])\n"
     ]
    },
    {
     "name": "stderr",
     "output_type": "stream",
     "text": [
      "\n"
     ]
    },
    {
     "ename": "RuntimeError",
     "evalue": "selected index k out of range",
     "output_type": "error",
     "traceback": [
      "\u001b[0;31m---------------------------------------------------------------------------\u001b[0m",
      "\u001b[0;31mRuntimeError\u001b[0m                              Traceback (most recent call last)",
      "Input \u001b[0;32mIn [14]\u001b[0m, in \u001b[0;36m<cell line: 1>\u001b[0;34m()\u001b[0m\n\u001b[1;32m      5\u001b[0m \u001b[38;5;28mprint\u001b[39m(x\u001b[38;5;241m.\u001b[39mshape)\n\u001b[1;32m      6\u001b[0m pred \u001b[38;5;241m=\u001b[39m model(x)\n\u001b[0;32m----> 7\u001b[0m top1, top5 \u001b[38;5;241m=\u001b[39m \u001b[43maccuracy\u001b[49m\u001b[43m(\u001b[49m\u001b[43mpred\u001b[49m\u001b[43m,\u001b[49m\u001b[43m \u001b[49m\u001b[43my\u001b[49m\u001b[43m)\u001b[49m\n\u001b[1;32m      8\u001b[0m test_top1_total \u001b[38;5;241m+\u001b[39m\u001b[38;5;241m=\u001b[39m top1\u001b[38;5;241m.\u001b[39mitem() \u001b[38;5;241m*\u001b[39m \u001b[38;5;28mlen\u001b[39m(x)\n\u001b[1;32m      9\u001b[0m test_top5_total \u001b[38;5;241m+\u001b[39m\u001b[38;5;241m=\u001b[39m top5\u001b[38;5;241m.\u001b[39mitem() \u001b[38;5;241m*\u001b[39m \u001b[38;5;28mlen\u001b[39m(x)\n",
      "File \u001b[0;32m/raid/projects/akhot2/toptagger/toPushToGit/models/Multi-Body/utils.py:59\u001b[0m, in \u001b[0;36maccuracy\u001b[0;34m(output, target, topk)\u001b[0m\n\u001b[1;32m     55\u001b[0m batch_size \u001b[38;5;241m=\u001b[39m target\u001b[38;5;241m.\u001b[39msize(\u001b[38;5;241m0\u001b[39m)\n\u001b[1;32m     57\u001b[0m \u001b[38;5;66;03m# get top maxk indicies that correspond to the most likely probability scores\u001b[39;00m\n\u001b[1;32m     58\u001b[0m \u001b[38;5;66;03m# (note _ means we don't care about the actual top maxk scores just their corresponding indicies/labels)\u001b[39;00m\n\u001b[0;32m---> 59\u001b[0m _, y_pred \u001b[38;5;241m=\u001b[39m \u001b[43moutput\u001b[49m\u001b[38;5;241;43m.\u001b[39;49m\u001b[43mtopk\u001b[49m\u001b[43m(\u001b[49m\u001b[43mk\u001b[49m\u001b[38;5;241;43m=\u001b[39;49m\u001b[43mmaxk\u001b[49m\u001b[43m,\u001b[49m\u001b[43m \u001b[49m\u001b[43mdim\u001b[49m\u001b[38;5;241;43m=\u001b[39;49m\u001b[38;5;241;43m1\u001b[39;49m\u001b[43m)\u001b[49m  \u001b[38;5;66;03m# _, [B, n_classes] -> [B, maxk]\u001b[39;00m\n\u001b[1;32m     60\u001b[0m y_pred \u001b[38;5;241m=\u001b[39m y_pred\u001b[38;5;241m.\u001b[39mt()  \u001b[38;5;66;03m# [B, maxk] -> [maxk, B] Expects input to be <= 2-D tensor and transposes dimensions 0 and 1.\u001b[39;00m\n\u001b[1;32m     62\u001b[0m \u001b[38;5;66;03m# - get the credit for each example if the models predictions is in maxk values (main crux of code)\u001b[39;00m\n\u001b[1;32m     63\u001b[0m \u001b[38;5;66;03m# for any example, the model will get credit if it's prediction matches the ground truth\u001b[39;00m\n\u001b[1;32m     64\u001b[0m \u001b[38;5;66;03m# for each example we compare if the model's best prediction matches the truth. If yes we get an entry of 1.\u001b[39;00m\n\u001b[1;32m     65\u001b[0m \u001b[38;5;66;03m# if the k'th top answer of the model matches the truth we get 1.\u001b[39;00m\n\u001b[1;32m     66\u001b[0m \u001b[38;5;66;03m# Note: this for any example in batch we can only ever get 1 match (so we never overestimate accuracy <1)\u001b[39;00m\n",
      "\u001b[0;31mRuntimeError\u001b[0m: selected index k out of range"
     ]
    }
   ],
   "source": [
    "with torch.no_grad():\n",
    "    for x,y in tqdm(testloader):\n",
    "        x = x.cuda()\n",
    "        y = y.cuda()\n",
    "        print(x.shape)\n",
    "        pred = model(x)\n",
    "        top1, top5 = accuracy(pred, y, topk=(1024,2))\n",
    "        test_top1_total += top1.item() * len(x)\n",
    "        test_top5_total += top5.item() * len(x)"
   ]
  },
  {
   "cell_type": "code",
   "execution_count": null,
   "id": "669fe152",
   "metadata": {},
   "outputs": [],
   "source": []
  }
 ],
 "metadata": {
  "kernelspec": {
   "display_name": "Python 3 (ipykernel)",
   "language": "python",
   "name": "python3"
  },
  "language_info": {
   "codemirror_mode": {
    "name": "ipython",
    "version": 3
   },
   "file_extension": ".py",
   "mimetype": "text/x-python",
   "name": "python",
   "nbconvert_exporter": "python",
   "pygments_lexer": "ipython3",
   "version": "3.9.12"
  }
 },
 "nbformat": 4,
 "nbformat_minor": 5
}
