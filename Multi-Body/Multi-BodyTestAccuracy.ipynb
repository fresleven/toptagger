{
 "cells": [
  {
   "cell_type": "code",
   "execution_count": 146,
   "id": "c8e899cf",
   "metadata": {},
   "outputs": [
    {
     "data": {
      "text/plain": [
       "Net(\n",
       "  (dense1): Linear(in_features=26, out_features=200, bias=True)\n",
       "  (dense2): Linear(in_features=200, out_features=200, bias=True)\n",
       "  (dense3): Linear(in_features=200, out_features=50, bias=True)\n",
       "  (dense4): Linear(in_features=50, out_features=50, bias=True)\n",
       "  (dense5): Linear(in_features=50, out_features=2, bias=True)\n",
       "  (relu): ReLU()\n",
       "  (dropout1): Dropout(p=0.1, inplace=False)\n",
       "  (dropout2): Dropout(p=0.2, inplace=False)\n",
       "  (softmax): Softmax(dim=0)\n",
       ")"
      ]
     },
     "execution_count": 146,
     "metadata": {},
     "output_type": "execute_result"
    }
   ],
   "source": [
    "from multidataset import MultiDataset\n",
    "from multibodymodel import Net as Model\n",
    "import numpy as np\n",
    "from tqdm import tqdm\n",
    "import torch\n",
    "from torch.utils.data import DataLoader\n",
    "from utils import accuracy\n",
    "import sklearn\n",
    "from sklearn.metrics import roc_curve\n",
    "from sklearn.metrics import accuracy_score\n",
    "import matplotlib.pyplot as plt\n",
    "\n",
    "#Parameters to change, can change model_type to 'best' or 'last'\n",
    "use_jet_mass = True\n",
    "N = 8\n",
    "model_type = 'best' \n",
    "#Testing path\n",
    "test_path = '../../datasets/n-subjettiness_data/test_all.npy'\n",
    "\n",
    "#model path\n",
    "model_path = 'models/MultiBody' + str(N) + '-Subjettiness_mass' +str(use_jet_mass)+'_'+ model_type\n",
    "#num of features\n",
    "features = 3*N\n",
    "if use_jet_mass:\n",
    "    features+=2\n",
    "else:\n",
    "    features+=1\n",
    "\n",
    "#Loading testing dataset\n",
    "test_set = MultiDataset(test_path, N, use_jet_mass)\n",
    "testloader = DataLoader(test_set, shuffle=False, batch_size=512, num_workers=50, pin_memory=True, persistent_workers=True)\n",
    "    \n",
    "#loading model\n",
    "model = Model(features).double().cuda()\n",
    "model.load_state_dict(torch.load(model_path))\n",
    "model.eval()"
   ]
  },
  {
   "cell_type": "code",
   "execution_count": 147,
   "id": "dc7f3a37",
   "metadata": {},
   "outputs": [
    {
     "ename": "SyntaxError",
     "evalue": "invalid syntax (642797576.py, line 4)",
     "output_type": "error",
     "traceback": [
      "\u001b[0;36m  Input \u001b[0;32mIn [147]\u001b[0;36m\u001b[0m\n\u001b[0;31m    y = .cuda()\u001b[0m\n\u001b[0m        ^\u001b[0m\n\u001b[0;31mSyntaxError\u001b[0m\u001b[0;31m:\u001b[0m invalid syntax\n"
     ]
    }
   ],
   "source": [
    "with torch.no_grad():\n",
    "    for x,y in tqdm(testloader):\n",
    "        x = x.cuda()\n",
    "        y = .cuda()\n",
    "        pred = model(x)\n",
    "        top1, top5 = accuracy(pred, y, topk=(1024,2))\n",
    "        test_top1_total += top1.item() * len(x)\n",
    "        test_top5_total += top5.item() * len(x)"
   ]
  },
  {
   "cell_type": "code",
   "execution_count": 148,
   "id": "b215ee8d",
   "metadata": {},
   "outputs": [
    {
     "name": "stdout",
     "output_type": "stream",
     "text": [
      "Performance on test set\n"
     ]
    },
    {
     "name": "stderr",
     "output_type": "stream",
     "text": [
      "100%|████████████████████████████████████████████████████████████████████████████████████████████████████████████████████████████████████| 782/782 [00:00<00:00, 790.54it/s]"
     ]
    },
    {
     "name": "stdout",
     "output_type": "stream",
     "text": [
      "Loss: 4.5090454642425515\n",
      "Accuracy: 0.43359375\n",
      "Background rejection at 30\\% signal efficiency:111.0\n",
      "Background rejection at 50\\% signal efficiency:74.0\n",
      "Background rejection at 80\\% signal efficiency:27.75\n",
      "AUC:0.9712022367194781\n"
     ]
    },
    {
     "name": "stderr",
     "output_type": "stream",
     "text": [
      "\n"
     ]
    }
   ],
   "source": [
    "def evaluate_model(model, test_loader):\n",
    "   \n",
    "    test_features, test_labels = next(iter(test_loader))\n",
    "    #Find loss and accuracy\n",
    "    crit = torch.nn.BCELoss()\n",
    "    val_loss_total=0\n",
    "\n",
    "    with torch.no_grad():\n",
    "        for x,y in tqdm(test_loader):\n",
    "            x = x.cuda()\n",
    "            y = y.cuda()\n",
    "            pred = model(x)\n",
    "            loss = crit(pred, y)\n",
    "            val_loss_total += loss.item()/len(x)\n",
    "        acc = accuracy_score(model(test_features.cuda())[:,1].cpu().round(), test_labels[:,1].detach().numpy())\n",
    "    print(\"Loss: \"+str(val_loss_total))    \n",
    "    print(\"Accuracy: \"+str(acc))\n",
    "    fpr, tpr, thresholds = roc_curve(\n",
    "            test_labels[:,1].detach().numpy(), model(test_features.cuda())[:,1].cpu().ravel().detach().numpy())\n",
    "    \n",
    "    rej_at_30_marker  = None\n",
    "    rej_at_50_marker  = None\n",
    "    rej_at_80_marker  = None\n",
    "\n",
    "    for i in range(len(fpr)):\n",
    "        if(tpr[i] >= .30 and rej_at_30_marker is None):\n",
    "            rej_at_30_marker = 1 / fpr[i]\n",
    "            print(\"Background rejection at 30\\% signal efficiency:\" +\n",
    "                        str(rej_at_30_marker))\n",
    "        if(tpr[i] >= .50 and rej_at_50_marker is None):\n",
    "            rej_at_50_marker = 1 / fpr[i]\n",
    "            print(\"Background rejection at 50\\% signal efficiency:\" +\n",
    "                        str(rej_at_50_marker))\n",
    "        if(tpr[i] >= .80 and rej_at_80_marker is None):\n",
    "            rej_at_80_marker = 1 / fpr[i]\n",
    "            print( \"Background rejection at 80\\% signal efficiency:\" +\n",
    "                   str(rej_at_80_marker))\n",
    "    current = sklearn.metrics.auc(fpr, tpr)\n",
    "    print(\"AUC:\"+str(current))\n",
    "    return fpr,tpr,current\n",
    "    \n",
    "print(\"Performance on test set\")\n",
    "fpr, tpr, current = evaluate_model(model,testloader)"
   ]
  },
  {
   "cell_type": "code",
   "execution_count": 149,
   "id": "e0667fc9",
   "metadata": {},
   "outputs": [
    {
     "data": {
      "image/png": "[encoded data removed]",
      "text/plain": [
       "<Figure size 432x288 with 1 Axes>"
      ]
     },
     "metadata": {
      "needs_background": "light"
     },
     "output_type": "display_data"
    }
   ],
   "source": [
    "labels = test_labels[:,1].detach().numpy()\n",
    "preds = model(test_features.cuda())[:,1].cpu().ravel().detach().numpy()\n",
    "sklearn.metrics.RocCurveDisplay.from_predictions(labels, preds, name='MultiBody' + str(N) + '-Subjettiness_mass' +str(use_jet_mass)+'_'+ model_type)\n",
    "plt.show()"
   ]
  },
  {
   "cell_type": "code",
   "execution_count": null,
   "id": "fe3d6979",
   "metadata": {},
   "outputs": [],
   "source": []
  }
 ],
 "metadata": {
  "kernelspec": {
   "display_name": "Python 3 (ipykernel)",
   "language": "python",
   "name": "python3"
  },
  "language_info": {
   "codemirror_mode": {
    "name": "ipython",
    "version": 3
   },
   "file_extension": ".py",
   "mimetype": "text/x-python",
   "name": "python",
   "nbconvert_exporter": "python",
   "pygments_lexer": "ipython3",
   "version": "3.9.12"
  }
 },
 "nbformat": 4,
 "nbformat_minor": 5
}
