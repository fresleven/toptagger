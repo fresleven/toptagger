{
 "cells": [
  {
   "cell_type": "code",
   "execution_count": 1,
   "id": "93fb7938",
   "metadata": {},
   "outputs": [
    {
     "name": "stdout",
     "output_type": "stream",
     "text": [
      "WARNING:tensorflow:SavedModel saved prior to TF 2.5 detected when loading Keras model. Please ensure that you are saving the model with model.save() or tf.keras.models.save_model(), *NOT* tf.saved_model.save(). To confirm, there should be a file named \"keras_metadata.pb\" in the SavedModel directory.\n"
     ]
    },
    {
     "name": "stderr",
     "output_type": "stream",
     "text": [
      "2022-06-30 14:57:54.054958: W tensorflow/stream_executor/platform/default/dso_loader.cc:64] Could not load dynamic library 'libcusolver.so.11'; dlerror: libcusolver.so.11: cannot open shared object file: No such file or directory; LD_LIBRARY_PATH: /opt/rh/devtoolset-9/root/usr/lib64:/opt/rh/devtoolset-9/root/usr/lib:/opt/rh/devtoolset-9/root/usr/lib64/dyninst:/opt/rh/devtoolset-9/root/usr/lib/dyninst:/opt/rh/devtoolset-9/root/usr/lib64:/opt/rh/devtoolset-9/root/usr/lib\n",
      "2022-06-30 14:57:54.055611: W tensorflow/core/common_runtime/gpu/gpu_device.cc:1850] Cannot dlopen some GPU libraries. Please make sure the missing libraries mentioned above are installed properly if you would like to use GPU. Follow the guide at https://www.tensorflow.org/install/gpu for how to download and setup the required libraries for your platform.\n",
      "Skipping registering GPU devices...\n",
      "2022-06-30 14:57:54.055967: I tensorflow/core/platform/cpu_feature_guard.cc:193] This TensorFlow binary is optimized with oneAPI Deep Neural Network Library (oneDNN) to use the following CPU instructions in performance-critical operations:  AVX2 FMA\n",
      "To enable them in other operations, rebuild TensorFlow with the appropriate compiler flags.\n"
     ]
    }
   ],
   "source": [
    "import pandas as pd\n",
    "from keras.models import load_model\n",
    "import numpy as np\n",
    "import sklearn\n",
    "from sklearn.metrics import roc_curve\n",
    "\n",
    "k_batch_size = 96\n",
    "\n",
    "df_test = pd.read_pickle(\"../../datasets/topoprocessed/test.pkl\")\n",
    "x_test = df_test.loc[:, df_test.columns != 'is_signal_new']\n",
    "y_test = df_test[\"is_signal_new\"]\n",
    "del df_test\n",
    "\n",
    "df_train = pd.read_pickle(\"../../datasets/topoprocessed/train.pkl\")\n",
    "df_val = pd.read_pickle(\"../../datasets/topoprocessed/val.pkl\")\n",
    "x_val = df_val.loc[:, df_train.columns != 'is_signal_new']\n",
    "y_val = df_val[\"is_signal_new\"]\n",
    "del df_train\n",
    "del df_val\n",
    "\n",
    "#Can change to '', '_pt0' or '_pt'\n",
    "mode = ''\n",
    "if mode == '_pt0':\n",
    "    #Get rid of pt_0 column\n",
    "    x_test = x_test.loc[:, x_test.columns != 'pt_0']\n",
    "    x_val = x_val.loc[:, x_val.columns != 'pt_0']\n",
    "elif mode == '_pt':\n",
    "    pt_cols = [col for col in x_test.columns if 'pt' in col]\n",
    "    x_test = x_test.drop(pt_cols, axis=1)\n",
    "    x_val = x_val.drop(pt_cols, axis=1)\n",
    "\n",
    "model = load_model('topodnnmodels/topodnnmodel' + mode)"
   ]
  },
  {
   "cell_type": "code",
   "execution_count": 2,
   "id": "7a72d394",
   "metadata": {},
   "outputs": [
    {
     "name": "stdout",
     "output_type": "stream",
     "text": [
      "Performance on validation set\n",
      "4198/4198 [==============================] - 4s 808us/step - loss: 0.2086 - accuracy: 0.9152\n",
      "Loss: 0.20857317745685577\n",
      "Acc: 0.9151935577392578\n",
      "12594/12594 [==============================] - 8s 591us/step\n",
      "Background rejection at 30\\% signal efficiency:250.93773349937732\n",
      "Background rejection at 50\\% signal efficiency:88.22373029772329\n",
      "Background rejection at 80\\% signal efficiency:21.514307068118725\n",
      "AUC:0.9706369816878555\n",
      "Performance on test set\n",
      "4209/4209 [==============================] - 4s 879us/step - loss: 0.2072 - accuracy: 0.9155\n",
      "Loss: 0.20718255639076233\n",
      "Acc: 0.9155470132827759\n",
      "12625/12625 [==============================] - 8s 606us/step\n",
      "Background rejection at 30\\% signal efficiency:278.1184573002755\n",
      "Background rejection at 50\\% signal efficiency:93.4787037037037\n",
      "Background rejection at 80\\% signal efficiency:22.108179130625206\n",
      "AUC:0.9712025940597585\n"
     ]
    }
   ],
   "source": [
    "def evaluate_model(model, x_val, y_val):\n",
    "    score = model.evaluate(x_val, y_val, batch_size=k_batch_size)\n",
    "    print(\"Loss: \"+str(score[0]))\n",
    "    print(\"Acc: \"+str(score[1]))\n",
    "    \n",
    "    fpr, tpr, thresholds = roc_curve(\n",
    "            y_val, model.predict(x_val).ravel())\n",
    "    \n",
    "    rej_at_30_marker  = None\n",
    "    rej_at_50_marker  = None\n",
    "    rej_at_80_marker  = None\n",
    "\n",
    "    for i in range(len(fpr)):\n",
    "        if(tpr[i] >= .30 and rej_at_30_marker is None):\n",
    "            rej_at_30_marker = 1 / fpr[i]\n",
    "            print(\"Background rejection at 30\\% signal efficiency:\" +\n",
    "                        str(rej_at_30_marker))\n",
    "        if(tpr[i] >= .50 and rej_at_50_marker is None):\n",
    "            rej_at_50_marker = 1 / fpr[i]\n",
    "            print(\"Background rejection at 50\\% signal efficiency:\" +\n",
    "                        str(rej_at_50_marker))\n",
    "        if(tpr[i] >= .80 and rej_at_80_marker is None):\n",
    "            rej_at_80_marker = 1 / fpr[i]\n",
    "            print( \"Background rejection at 80\\% signal efficiency:\" +\n",
    "                   str(rej_at_80_marker))\n",
    "    current = sklearn.metrics.auc(fpr, tpr)\n",
    "    print(\"AUC:\"+str(current))\n",
    "    return fpr,tpr,current\n",
    "    \n",
    "print(\"Performance on validation set\")\n",
    "_ = evaluate_model(model,x_val,y_val)\n",
    "print(\"Performance on test set\")\n",
    "_ = evaluate_model(model,x_test,y_test)"
   ]
  },
  {
   "cell_type": "code",
   "execution_count": 6,
   "id": "3f1d73a5",
   "metadata": {},
   "outputs": [],
   "source": [
    "#Saves prediction values\n",
    "to_save = model.predict(x_test)\n",
    "np.save('preds/topodnn' + mode + '.npy',to_save.ravel())"
   ]
  },
  {
   "cell_type": "code",
   "execution_count": null,
   "id": "1629b133",
   "metadata": {},
   "outputs": [],
   "source": []
  }
 ],
 "metadata": {
  "kernelspec": {
   "display_name": "Python 3 (ipykernel)",
   "language": "python",
   "name": "python3"
  },
  "language_info": {
   "codemirror_mode": {
    "name": "ipython",
    "version": 3
   },
   "file_extension": ".py",
   "mimetype": "text/x-python",
   "name": "python",
   "nbconvert_exporter": "python",
   "pygments_lexer": "ipython3",
   "version": "3.9.12"
  }
 },
 "nbformat": 4,
 "nbformat_minor": 5
}
