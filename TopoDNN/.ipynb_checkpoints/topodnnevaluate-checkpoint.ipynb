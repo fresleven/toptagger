{
 "cells": [
  {
   "cell_type": "code",
   "execution_count": 4,
   "id": "93fb7938",
   "metadata": {},
   "outputs": [],
   "source": [
    "import pandas as pd\n",
    "from keras.models import load_model\n",
    "import numpy as np\n",
    "import sklearn\n",
    "from sklearn.metrics import roc_curve\n",
    "\n",
    "k_batch_size = 96\n",
    "\n",
    "df_test = pd.read_pickle(\"../../datasets/topoprocessed/test.pkl\")\n",
    "x_test = df_test.loc[:, df_test.columns != 'is_signal_new']\n",
    "y_test = df_test[\"is_signal_new\"]\n",
    "del df_test\n",
    "\n",
    "df_train = pd.read_pickle(\"../../datasets/topoprocessed/train.pkl\")\n",
    "df_val = pd.read_pickle(\"../../datasets/topoprocessed/val.pkl\")\n",
    "x_val = df_val.loc[:, df_train.columns != 'is_signal_new']\n",
    "y_val = df_val[\"is_signal_new\"]\n",
    "del df_train\n",
    "del df_val\n",
    "\n",
    "model = load_model(\"topodnnmodel\")"
   ]
  },
  {
   "cell_type": "code",
   "execution_count": 5,
   "id": "7a72d394",
   "metadata": {},
   "outputs": [
    {
     "name": "stdout",
     "output_type": "stream",
     "text": [
      "Performance on validation set\n",
      "4198/4198 [==============================] - 5s 1ms/step - loss: 0.2086 - accuracy: 0.9152\n",
      "Loss: 0.20857317745685577\n",
      "Acc: 0.9151935577392578\n",
      "Background rejection at 30\\% signal efficiency:250.93773349937732\n",
      "Background rejection at 50\\% signal efficiency:88.22373029772329\n",
      "Background rejection at 80\\% signal efficiency:21.514307068118725\n",
      "AUC:0.9706369817986868\n",
      "Performance on test set\n",
      "4209/4209 [==============================] - 5s 1ms/step - loss: 0.2072 - accuracy: 0.9155\n",
      "Loss: 0.20718258619308472\n",
      "Acc: 0.9155470132827759\n",
      "Background rejection at 30\\% signal efficiency:278.1184573002755\n",
      "Background rejection at 50\\% signal efficiency:93.4787037037037\n",
      "Background rejection at 80\\% signal efficiency:22.108179130625206\n",
      "AUC:0.9712025936676402\n"
     ]
    }
   ],
   "source": [
    "def evaluate_model(model, x_val, y_val):\n",
    "    score = model.evaluate(x_val, y_val, batch_size=k_batch_size)\n",
    "    print(\"Loss: \"+str(score[0]))\n",
    "    print(\"Acc: \"+str(score[1]))\n",
    "    \n",
    "    fpr, tpr, thresholds = roc_curve(\n",
    "            y_val, model.predict(x_val).ravel())\n",
    "    \n",
    "    rej_at_30_marker  = None\n",
    "    rej_at_50_marker  = None\n",
    "    rej_at_80_marker  = None\n",
    "\n",
    "    for i in range(len(fpr)):\n",
    "        if(tpr[i] >= .30 and rej_at_30_marker is None):\n",
    "            rej_at_30_marker = 1 / fpr[i]\n",
    "            print(\"Background rejection at 30\\% signal efficiency:\" +\n",
    "                        str(rej_at_30_marker))\n",
    "        if(tpr[i] >= .50 and rej_at_50_marker is None):\n",
    "            rej_at_50_marker = 1 / fpr[i]\n",
    "            print(\"Background rejection at 50\\% signal efficiency:\" +\n",
    "                        str(rej_at_50_marker))\n",
    "        if(tpr[i] >= .80 and rej_at_80_marker is None):\n",
    "            rej_at_80_marker = 1 / fpr[i]\n",
    "            print( \"Background rejection at 80\\% signal efficiency:\" +\n",
    "                   str(rej_at_80_marker))\n",
    "    current = sklearn.metrics.auc(fpr, tpr)\n",
    "    print(\"AUC:\"+str(current))\n",
    "    return fpr,tpr,current\n",
    "    \n",
    "print(\"Performance on validation set\")\n",
    "_ = evaluate_model(model,x_val,y_val)\n",
    "print(\"Performance on test set\")\n",
    "_ = evaluate_model(model,x_test,y_test)"
   ]
  },
  {
   "cell_type": "code",
   "execution_count": 6,
   "id": "3f1d73a5",
   "metadata": {},
   "outputs": [],
   "source": [
    "to_save = model.predict(x_test)\n",
    "np.save('topodnn.npy',to_save.ravel())"
   ]
  },
  {
   "cell_type": "code",
   "execution_count": null,
   "id": "dbd499c5",
   "metadata": {},
   "outputs": [],
   "source": []
  }
 ],
 "metadata": {
  "kernelspec": {
   "display_name": "Python 3 (ipykernel)",
   "language": "python",
   "name": "python3"
  },
  "language_info": {
   "codemirror_mode": {
    "name": "ipython",
    "version": 3
   },
   "file_extension": ".py",
   "mimetype": "text/x-python",
   "name": "python",
   "nbconvert_exporter": "python",
   "pygments_lexer": "ipython3",
   "version": "3.9.12"
  }
 },
 "nbformat": 4,
 "nbformat_minor": 5
}
