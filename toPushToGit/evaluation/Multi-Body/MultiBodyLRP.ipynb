{
 "cells": [
  {
   "cell_type": "code",
   "execution_count": 1,
   "id": "7444fec9",
   "metadata": {},
   "outputs": [],
   "source": [
    "import torch\n",
    "import numpy as np\n",
    "from torch.utils.data import DataLoader\n",
    "import matplotlib.pyplot as plt\n",
    "import pickle\n",
    "import tqdm as tqdm\n",
    "import pandas as pd\n",
    "import copy\n",
    "import torch.nn as nn\n",
    "\n",
    "import sys\n",
    "sys.path.insert(1, '../../models/Multi-Body')\n",
    "from multidataset import MultiDataset\n",
    "from multimodel import Net as Model"
   ]
  },
  {
   "cell_type": "code",
   "execution_count": 32,
   "id": "ae492f2c",
   "metadata": {},
   "outputs": [
    {
     "data": {
      "text/plain": [
       "Net(\n",
       "  (dense1): Linear(in_features=20, out_features=200, bias=True)\n",
       "  (dense2): Linear(in_features=200, out_features=200, bias=True)\n",
       "  (dense3): Linear(in_features=200, out_features=50, bias=True)\n",
       "  (dense4): Linear(in_features=50, out_features=50, bias=True)\n",
       "  (dense5): Linear(in_features=50, out_features=2, bias=True)\n",
       "  (relu): ReLU()\n",
       "  (dropout1): Dropout(p=0.1, inplace=False)\n",
       "  (dropout2): Dropout(p=0.2, inplace=False)\n",
       "  (softmax): Softmax(dim=1)\n",
       ")"
      ]
     },
     "execution_count": 32,
     "metadata": {},
     "output_type": "execute_result"
    }
   ],
   "source": [
    "#Parameters to change, can change model_type to 'best' or 'last'\n",
    "use_jet_pt = False\n",
    "use_jet_mass = False\n",
    "N = 8\n",
    "model_type = 'best'\n",
    "extra_name = ''\n",
    "#Testing path\n",
    "test_path = '../../datasets/n-subjettiness_data/test_all.npy'\n",
    "\n",
    "#model path\n",
    "model_path = '../../models/Multi-Body/models/MultiBody' + str(N) + '-Subjettiness_mass' +str(use_jet_mass)+'_pt'+str(use_jet_pt)+'_'+ model_type + extra_name\n",
    "\n",
    "#Loading testing dataset\n",
    "test_set = MultiDataset(test_path, N, use_jet_pt, use_jet_mass)\n",
    "\n",
    "#loading model\n",
    "model = Model(N, use_jet_pt, use_jet_mass).double()\n",
    "model.load_state_dict(torch.load(model_path))\n",
    "model.eval()"
   ]
  },
  {
   "cell_type": "code",
   "execution_count": 33,
   "id": "1aabbb6b",
   "metadata": {},
   "outputs": [],
   "source": [
    "classes = []\n",
    "for i in range(N-1):\n",
    "    if i != N-2:\n",
    "        classes.append('tau_'+str(i+1)+'_'+str(0.5))\n",
    "        classes.append('tau_'+str(i+1)+'_'+str(1))\n",
    "        classes.append('tau_'+str(i+1)+'_'+str(2))\n",
    "    else:\n",
    "        classes.append('tau_'+str(i+1)+'_'+str(1))\n",
    "        classes.append('tau_'+str(i+1)+'_'+str(2))\n",
    "if use_jet_pt:\n",
    "    classes.append('jet_pt')\n",
    "if use_jet_mass:\n",
    "    classes.append('jet_mass')"
   ]
  },
  {
   "cell_type": "code",
   "execution_count": 34,
   "id": "fcb45203",
   "metadata": {},
   "outputs": [
    {
     "name": "stdout",
     "output_type": "stream",
     "text": [
      "done\n"
     ]
    }
   ],
   "source": [
    "layer_names = ['dense1', 'relu', 'dropout2', 'dense2', 'relu', 'dropout2', 'dense3', 'relu', \n",
    "              'dropout1', 'dense4', 'relu', 'dropout1', 'dense5', 'softmax']\n",
    "data,labels = test_set[:]\n",
    "full_data = np.concatenate((data,labels),axis=1)\n",
    "df_test = pd.DataFrame(full_data, columns=np.append(classes, ['background_prob', 'signal_prob']))\n",
    "sig = df_test.loc[df_test['signal_prob'] == 1].drop(columns=['background_prob', 'signal_prob']).to_numpy()\n",
    "L=14\n",
    "A = [torch.from_numpy(sig)]+[None]*L\n",
    "for i in range(L):\n",
    "    A[i+1] = model._modules[layer_names[i]].forward(A[i])\n",
    "print('done')"
   ]
  },
  {
   "cell_type": "code",
   "execution_count": 35,
   "id": "dc70e83a",
   "metadata": {},
   "outputs": [],
   "source": [
    "def newlayer(layer,g):\n",
    "\n",
    "    layer = copy.deepcopy(layer)\n",
    "    with torch.no_grad():\n",
    "        try: layer.weight = nn.Parameter(g(layer.weight))\n",
    "        except AttributeError: pass\n",
    "\n",
    "        try: layer.bias   = nn.Parameter(g(layer.bias))\n",
    "        except AttributeError: pass\n",
    "\n",
    "    return layer"
   ]
  },
  {
   "cell_type": "code",
   "execution_count": 36,
   "id": "af89d104",
   "metadata": {},
   "outputs": [
    {
     "data": {
      "text/plain": [
       "Net(\n",
       "  (dense1): Linear(in_features=20, out_features=200, bias=True)\n",
       "  (dense2): Linear(in_features=200, out_features=200, bias=True)\n",
       "  (dense3): Linear(in_features=200, out_features=50, bias=True)\n",
       "  (dense4): Linear(in_features=50, out_features=50, bias=True)\n",
       "  (dense5): Linear(in_features=50, out_features=2, bias=True)\n",
       "  (relu): ReLU()\n",
       "  (dropout1): Dropout(p=0.1, inplace=False)\n",
       "  (dropout2): Dropout(p=0.2, inplace=False)\n",
       "  (softmax): Softmax(dim=1)\n",
       ")"
      ]
     },
     "execution_count": 36,
     "metadata": {},
     "output_type": "execute_result"
    }
   ],
   "source": [
    "#Copying model\n",
    "model_copy = Model(N, use_jet_pt, use_jet_mass).double()\n",
    "model_copy.load_state_dict(torch.load(model_path))\n",
    "model_copy.eval()"
   ]
  },
  {
   "cell_type": "code",
   "execution_count": 37,
   "id": "dd75d41b",
   "metadata": {},
   "outputs": [],
   "source": [
    "#Combine Dense+Activation functions\n",
    "B = [A[0], A[3], A[6], A[9], A[12], A[14]]\n",
    "# Backpropagate relevance scores (LRP-gamma)\n",
    "rho = lambda p: p + 0.25*np.clip(p, 0, None);                       incr = lambda z: z+1e-9\n",
    "R = [None]*5 + [B[-1]]\n",
    "# Iterate over the layers in reverse order\n",
    "for l in range(0,5)[::-1]:\n",
    "    #if l <= 1:       rho = lambda p: p + 0.25*p.clamp(min=0); incr = lambda z: z+1e-9\n",
    "    #if 2 <= l <= 3: rho = lambda p: p;                       incr = lambda z: z+1e-9+0.25*((z**2).mean()**.5)\n",
    "    #if l >= 4:       rho = lambda p: p;                       incr = lambda z: z+1e-9\n",
    "    \n",
    "    B[l] = (B[l].data).requires_grad_(True)\n",
    "    \n",
    "    z = newlayer(model_copy._modules[layer_names[3*l]], rho).forward(B[l]) # setp 1\n",
    "    if l != 4:\n",
    "        z = model_copy._modules[layer_names[3*l+1]].forward(z)\n",
    "        z = incr(model_copy._modules[layer_names[3*l+2]].forward(z))\n",
    "    else:\n",
    "        z = incr(model_copy._modules[layer_names[3*l+1]].forward(z))\n",
    "\n",
    "    s = (R[l+1]/z).data                                    # step 2\n",
    "    (z*s).sum().backward(); c = B[l].grad                  # step 3\n",
    "    R[l] = (B[l]*c).data                                   # step 4"
   ]
  },
  {
   "cell_type": "code",
   "execution_count": 38,
   "id": "75da783d",
   "metadata": {},
   "outputs": [
    {
     "data": {
      "image/png": "[encoded data removed]",
      "text/plain": [
       "<Figure size 720x720 with 1 Axes>"
      ]
     },
     "metadata": {
      "needs_background": "light"
     },
     "output_type": "display_data"
    }
   ],
   "source": [
    "#Plots relevances as normalized and take absolute value\n",
    "normal_rel = np.empty_like(R[0])\n",
    "#Normalizes relevances for each sample\n",
    "normal_rel = R[0]/np.sum(R[0].detach().numpy(), 1)[:, np.newaxis]\n",
    "relevances = np.nanmean(np.abs(normal_rel), 0) #Takes mean across all jets\n",
    "df_sig_rel = pd.DataFrame(dict(params=classes, rels=relevances))\n",
    "df_sig_rel_sorted = df_sig_rel.sort_values('rels') #Sorts relevance values\n",
    "fig = plt.figure(figsize = (10, 10))\n",
    "# creating the bar plot\n",
    "max_display = 20\n",
    "plt.barh('params', 'rels', data = df_sig_rel_sorted.tail(max_display), color ='blue')\n",
    "plt.tight_layout()\n",
    "plt.xlabel(\"Relevance Score\")\n",
    "plt.ylabel(\"Parameters\")\n",
    "plt.title(\"Multi-Body Signal LRP values\")\n",
    "#Saves plot\n",
    "#plt.savefig(\"figures/LRP_sig_\"+str(N) + '-Subjettiness_mass' +str(use_jet_mass)+'_pt'+str(use_jet_pt)+\".png\", dpi = 150, bbox_inches='tight')\n",
    "plt.show()"
   ]
  },
  {
   "cell_type": "code",
   "execution_count": 39,
   "id": "3af6d00f",
   "metadata": {},
   "outputs": [
    {
     "data": {
      "text/plain": [
       "Net(\n",
       "  (dense1): Linear(in_features=20, out_features=200, bias=True)\n",
       "  (dense2): Linear(in_features=200, out_features=200, bias=True)\n",
       "  (dense3): Linear(in_features=200, out_features=50, bias=True)\n",
       "  (dense4): Linear(in_features=50, out_features=50, bias=True)\n",
       "  (dense5): Linear(in_features=50, out_features=2, bias=True)\n",
       "  (relu): ReLU()\n",
       "  (dropout1): Dropout(p=0.1, inplace=False)\n",
       "  (dropout2): Dropout(p=0.2, inplace=False)\n",
       "  (softmax): Softmax(dim=1)\n",
       ")"
      ]
     },
     "execution_count": 39,
     "metadata": {},
     "output_type": "execute_result"
    }
   ],
   "source": [
    "bkg = df_test.loc[df_test['background_prob'] == 1].drop(columns=['background_prob', 'signal_prob']).to_numpy()\n",
    "L=14\n",
    "A = [torch.from_numpy(bkg)]+[None]*L\n",
    "for i in range(L):\n",
    "    A[i+1] = model._modules[layer_names[i]].forward(A[i])\n",
    "\n",
    "#Copying model\n",
    "model_copy = Model(N, use_jet_pt, use_jet_mass).double()\n",
    "model_copy.load_state_dict(torch.load(model_path))\n",
    "model_copy.eval()"
   ]
  },
  {
   "cell_type": "code",
   "execution_count": 40,
   "id": "70d91b89",
   "metadata": {},
   "outputs": [],
   "source": [
    "#Combine Dense+Activation functions\n",
    "B = [A[0], A[3], A[6], A[9], A[12], A[14]]\n",
    "# Backpropagate relevance scores (LRP-gamma)\n",
    "rho = lambda p: p + 0.25*np.clip(p, 0, None);                       incr = lambda z: z+1e-9\n",
    "R = [None]*5 + [B[-1]]\n",
    "# Iterate over the layers in reverse order\n",
    "for l in range(0,5)[::-1]:\n",
    "    #if l <= 1:       rho = lambda p: p + 0.25*p.clamp(min=0); incr = lambda z: z+1e-9\n",
    "    #if 2 <= l <= 3: rho = lambda p: p;                       incr = lambda z: z+1e-9+0.25*((z**2).mean()**.5)\n",
    "    #if l >= 4:       rho = lambda p: p;                       incr = lambda z: z+1e-9\n",
    "    \n",
    "    B[l] = (B[l].data).requires_grad_(True)\n",
    "    \n",
    "    z = newlayer(model_copy._modules[layer_names[3*l]], rho).forward(B[l]) # setp 1\n",
    "    if l != 4:\n",
    "        z = model_copy._modules[layer_names[3*l+1]].forward(z)\n",
    "        z = incr(model_copy._modules[layer_names[3*l+2]].forward(z))\n",
    "    else:\n",
    "        z = incr(model_copy._modules[layer_names[3*l+1]].forward(z))\n",
    "\n",
    "    s = (R[l+1]/z).data                                    # step 2\n",
    "    (z*s).sum().backward(); c = B[l].grad                  # step 3\n",
    "    R[l] = (B[l]*c).data                                   # step 4"
   ]
  },
  {
   "cell_type": "code",
   "execution_count": 41,
   "id": "cf2cb6e3",
   "metadata": {},
   "outputs": [
    {
     "data": {
      "image/png": "[encoded data removed]",
      "text/plain": [
       "<Figure size 720x720 with 1 Axes>"
      ]
     },
     "metadata": {
      "needs_background": "light"
     },
     "output_type": "display_data"
    }
   ],
   "source": [
    "#Plots relevances as normalized and take absolute value\n",
    "normal_rel = np.empty_like(R[0])\n",
    "#Normalizes relevances for each sample\n",
    "normal_rel = R[0]/np.sum(R[0].detach().numpy(), 1)[:, np.newaxis]\n",
    "relevances = np.nanmean(np.abs(normal_rel), 0) #Takes mean across all jets\n",
    "df_sig_rel = pd.DataFrame(dict(params=classes, rels=relevances))\n",
    "df_sig_rel_sorted = df_sig_rel.sort_values('rels') #Sorts relevance values\n",
    "fig = plt.figure(figsize = (10, 10))\n",
    "# creating the bar plot\n",
    "max_display = 20\n",
    "plt.barh('params', 'rels', data = df_sig_rel_sorted.tail(max_display), color ='blue')\n",
    "plt.tight_layout()\n",
    "plt.xlabel(\"Relevance Score\")\n",
    "plt.ylabel(\"Parameters\")\n",
    "plt.title(\"Multi-Body Background LRP values\")\n",
    "#Saves plot\n",
    "#plt.savefig(\"figures/LRP_bkg_\"+str(N) + '-Subjettiness_mass' +str(use_jet_mass)+'_pt'+str(use_jet_pt)+\".png\", dpi = 150, bbox_inches='tight')\n",
    "plt.show()"
   ]
  },
  {
   "cell_type": "code",
   "execution_count": null,
   "id": "b9391104",
   "metadata": {},
   "outputs": [],
   "source": []
  }
 ],
 "metadata": {
  "kernelspec": {
   "display_name": "Python 3 (ipykernel)",
   "language": "python",
   "name": "python3"
  },
  "language_info": {
   "codemirror_mode": {
    "name": "ipython",
    "version": 3
   },
   "file_extension": ".py",
   "mimetype": "text/x-python",
   "name": "python",
   "nbconvert_exporter": "python",
   "pygments_lexer": "ipython3",
   "version": "3.9.12"
  }
 },
 "nbformat": 4,
 "nbformat_minor": 5
}
