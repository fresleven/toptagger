{
 "cells": [
  {
   "cell_type": "code",
   "execution_count": 37,
   "id": "28562814",
   "metadata": {},
   "outputs": [],
   "source": [
    "from keras.models import load_model\n",
    "import pandas as pd\n",
    "import pickle\n",
    "import tensorflow as tf\n",
    "import numpy as np\n",
    "import keras\n",
    "import matplotlib.pyplot as plt"
   ]
  },
  {
   "cell_type": "code",
   "execution_count": 2,
   "id": "e1bc94da",
   "metadata": {},
   "outputs": [
    {
     "name": "stdout",
     "output_type": "stream",
     "text": [
      "WARNING:tensorflow:SavedModel saved prior to TF 2.5 detected when loading Keras model. Please ensure that you are saving the model with model.save() or tf.keras.models.save_model(), *NOT* tf.saved_model.save(). To confirm, there should be a file named \"keras_metadata.pb\" in the SavedModel directory.\n"
     ]
    },
    {
     "name": "stderr",
     "output_type": "stream",
     "text": [
      "2022-06-29 15:40:42.590087: W tensorflow/stream_executor/platform/default/dso_loader.cc:64] Could not load dynamic library 'libcusolver.so.11'; dlerror: libcusolver.so.11: cannot open shared object file: No such file or directory; LD_LIBRARY_PATH: /opt/rh/devtoolset-9/root/usr/lib64:/opt/rh/devtoolset-9/root/usr/lib:/opt/rh/devtoolset-9/root/usr/lib64/dyninst:/opt/rh/devtoolset-9/root/usr/lib/dyninst:/opt/rh/devtoolset-9/root/usr/lib64:/opt/rh/devtoolset-9/root/usr/lib\n",
      "2022-06-29 15:40:42.590770: W tensorflow/core/common_runtime/gpu/gpu_device.cc:1850] Cannot dlopen some GPU libraries. Please make sure the missing libraries mentioned above are installed properly if you would like to use GPU. Follow the guide at https://www.tensorflow.org/install/gpu for how to download and setup the required libraries for your platform.\n",
      "Skipping registering GPU devices...\n",
      "2022-06-29 15:40:42.591540: I tensorflow/core/platform/cpu_feature_guard.cc:193] This TensorFlow binary is optimized with oneAPI Deep Neural Network Library (oneDNN) to use the following CPU instructions in performance-critical operations:  AVX2 FMA\n",
      "To enable them in other operations, rebuild TensorFlow with the appropriate compiler flags.\n"
     ]
    }
   ],
   "source": [
    "#Load model\n",
    "model = load_model(\"../../models/TopoDNN/topodnnmodel/\")\n",
    "#Loading data\n",
    "df_test = pd.read_pickle(\"../../datasets/topoprocessed/test.pkl\")\n",
    "sig = df_test.loc[df_test['is_signal_new'] == 1, df_test.columns != 'is_signal_new']\n",
    "bkg = df_test.loc[df_test['is_signal_new'] == 0, df_test.columns != 'is_signal_new']\n",
    "del df_test"
   ]
  },
  {
   "cell_type": "code",
   "execution_count": 3,
   "id": "a563343c",
   "metadata": {},
   "outputs": [
    {
     "name": "stdout",
     "output_type": "stream",
     "text": [
      "Model: \"sequential\"\n",
      "_________________________________________________________________\n",
      " Layer (type)                Output Shape              Param #   \n",
      "=================================================================\n",
      " dense (Dense)               (None, 300)               27300     \n",
      "                                                                 \n",
      " activation (Activation)     (None, 300)               0         \n",
      "                                                                 \n",
      " dense_1 (Dense)             (None, 102)               30702     \n",
      "                                                                 \n",
      " activation_1 (Activation)   (None, 102)               0         \n",
      "                                                                 \n",
      " dense_2 (Dense)             (None, 12)                1236      \n",
      "                                                                 \n",
      " activation_2 (Activation)   (None, 12)                0         \n",
      "                                                                 \n",
      " dense_3 (Dense)             (None, 6)                 78        \n",
      "                                                                 \n",
      " activation_3 (Activation)   (None, 6)                 0         \n",
      "                                                                 \n",
      " dense_4 (Dense)             (None, 1)                 7         \n",
      "                                                                 \n",
      " activation_4 (Activation)   (None, 1)                 0         \n",
      "                                                                 \n",
      "=================================================================\n",
      "Total params: 59,323\n",
      "Trainable params: 59,323\n",
      "Non-trainable params: 0\n",
      "_________________________________________________________________\n"
     ]
    }
   ],
   "source": [
    "model.summary()"
   ]
  },
  {
   "cell_type": "code",
   "execution_count": 70,
   "id": "2cf783c0",
   "metadata": {},
   "outputs": [
    {
     "name": "stdout",
     "output_type": "stream",
     "text": [
      "Num_layers: 10\n"
     ]
    }
   ],
   "source": [
    "#Calculate LRP of signal jets\n",
    "params = sig.columns\n",
    "X = sig\n",
    "L= len(model.layers)\n",
    "layers = model.layers\n",
    "A = [X]+[None]*L\n",
    "A[0] = tf.convert_to_tensor(A[0])\n",
    "print('Num_layers: ' + str(L))"
   ]
  },
  {
   "cell_type": "code",
   "execution_count": 71,
   "id": "eae1756d",
   "metadata": {},
   "outputs": [
    {
     "name": "stdout",
     "output_type": "stream",
     "text": [
      "done\n"
     ]
    }
   ],
   "source": [
    "#Calculates model's steps\n",
    "idx = 0\n",
    "for layer in model.layers:\n",
    "    #g=layer.get_config()['name']\n",
    "    #act = layer.get_config()['activation']\n",
    "    #h=layer.get_weights()\n",
    "    A[idx+1]=layer(A[idx])\n",
    "    idx+=1\n",
    "print('done')"
   ]
  },
  {
   "cell_type": "code",
   "execution_count": 72,
   "id": "85b32615",
   "metadata": {},
   "outputs": [],
   "source": [
    "#Clones model\n",
    "cloned_model = keras.models.clone_model(model)\n",
    "cloned_model.set_weights(model.get_weights())\n",
    "cloned_layers = cloned_model.layers"
   ]
  },
  {
   "cell_type": "code",
   "execution_count": 73,
   "id": "c8b491e2",
   "metadata": {},
   "outputs": [],
   "source": [
    "#Combine Dense+Activation functions\n",
    "B = [A[0], A[2], A[4], A[6], A[8], A[10]]\n",
    "# Backpropagate relevance scores\n",
    "rho = lambda p: p;                       incr = lambda z: z+1e-9\n",
    "R = [None]*5 + [B[-1]]\n",
    "# Iterate over the layers in reverse order\n",
    "for l in range(0,5)[::-1]:\n",
    "    #if l <= 1:       rho = lambda p: p + 0.25*p.clamp(min=0); incr = lambda z: z+1e-9\n",
    "    #if 2 <= l <= 3: rho = lambda p: p;                       incr = lambda z: z+1e-9+0.25*((z**2).mean()**.5)\n",
    "    #if l >= 4:       rho = lambda p: p;                       incr = lambda z: z+1e-9\n",
    "    with tf.GradientTape() as tape:\n",
    "        tape.watch(B[l])\n",
    "        #Transform weights\n",
    "        cloned_layers[2*l].set_weights([rho(cloned_layers[2*l].get_weights()[0]), rho(cloned_layers[2*l].get_weights()[1])])\n",
    "        #Execute forward pass\n",
    "        z = cloned_layers[2*l](B[l])\n",
    "        z = incr(cloned_layers[2*l+1](z))\n",
    "        # Element-wise division between relevance of the next layer and z\n",
    "        s = (R[l+1]/z)\n",
    "        \n",
    "        s = tf.reshape(s, z.shape)\n",
    "        # Calculate the gradient and multiply it by the activation\n",
    "        c = tape.gradient(tf.reduce_sum(z*s.numpy()), B[l])\n",
    "        # Assign new relevance values\n",
    "        R[l] = (B[l]*c)"
   ]
  },
  {
   "cell_type": "code",
   "execution_count": 74,
   "id": "e112b29a",
   "metadata": {},
   "outputs": [
    {
     "data": {
      "image/png": "[encoded data removed]",
      "text/plain": [
       "<Figure size 720x720 with 1 Axes>"
      ]
     },
     "metadata": {
      "needs_background": "light"
     },
     "output_type": "display_data"
    },
    {
     "data": {
      "text/plain": [
       "<Figure size 432x288 with 0 Axes>"
      ]
     },
     "metadata": {},
     "output_type": "display_data"
    }
   ],
   "source": [
    "#Plots relevances as normalized and take absolute value\n",
    "normal_rel = np.empty_like(R[0])\n",
    "#Normalizes relevances for each sample\n",
    "normal_rel = R[0]/np.sum(R[0], 1)[:, np.newaxis]\n",
    "relevances = np.nanmean(np.abs(normal_rel), 0) #Takes mean across all jets\n",
    "df_sig_rel = pd.DataFrame(dict(params=params, rels=relevances))\n",
    "df_sig_rel_sorted = df_sig_rel.sort_values('rels') #Sorts relevance values\n",
    "fig = plt.figure(figsize = (10, 10))\n",
    "# creating the bar plot\n",
    "max_display = 20\n",
    "plt.barh('params', 'rels', data = df_sig_rel_sorted.tail(max_display), color ='blue')\n",
    "plt.tight_layout()\n",
    "plt.xlabel(\"Relevance Score\")\n",
    "plt.ylabel(\"Parameters\")\n",
    "plt.title(\"TopoDNN Signal LRP values\")\n",
    "plt.show()\n",
    "#Saves plot\n",
    "# plt.savefig(\"figures/LRP_sig.png\", dpi = 150, bbox_inches='tight')"
   ]
  },
  {
   "cell_type": "code",
   "execution_count": 75,
   "id": "730ba587",
   "metadata": {},
   "outputs": [
    {
     "name": "stdout",
     "output_type": "stream",
     "text": [
      "done\n"
     ]
    }
   ],
   "source": [
    "#Calculate LRP of signal jets and steps\n",
    "X = bkg\n",
    "idx = 0\n",
    "A = [X]+[None]*L\n",
    "A[0] = tf.convert_to_tensor(A[0])\n",
    "\n",
    "for layer in model.layers:\n",
    "    #g=layer.get_config()['name']\n",
    "    #act = layer.get_config()['activation']\n",
    "    #h=layer.get_weights()\n",
    "    A[idx+1]=layer(A[idx])\n",
    "    idx+=1\n",
    "print('done')"
   ]
  },
  {
   "cell_type": "code",
   "execution_count": 76,
   "id": "1c83759b",
   "metadata": {},
   "outputs": [],
   "source": [
    "#Clones model\n",
    "cloned_model = keras.models.clone_model(model)\n",
    "cloned_model.set_weights(model.get_weights())\n",
    "cloned_layers = cloned_model.layers"
   ]
  },
  {
   "cell_type": "code",
   "execution_count": 77,
   "id": "eb96d7a5",
   "metadata": {},
   "outputs": [],
   "source": [
    "#Combine Dense+Activation functions\n",
    "B = [A[0], A[2], A[4], A[6], A[8], A[10]]\n",
    "# Backpropagate relevance scores\n",
    "rho = lambda p: p;                       incr = lambda z: z+1e-9\n",
    "R = [None]*5 + [B[-1]]\n",
    "# Iterate over the layers in reverse order\n",
    "for l in range(0,5)[::-1]:\n",
    "    #if l <= 1:       rho = lambda p: p + 0.25*p.clamp(min=0); incr = lambda z: z+1e-9\n",
    "    #if 2 <= l <= 3: rho = lambda p: p;                       incr = lambda z: z+1e-9+0.25*((z**2).mean()**.5)\n",
    "    #if l >= 4:       rho = lambda p: p;                       incr = lambda z: z+1e-9\n",
    "    with tf.GradientTape() as tape:\n",
    "        tape.watch(B[l])\n",
    "        #Transform weights\n",
    "        cloned_layers[2*l].set_weights([rho(cloned_layers[2*l].get_weights()[0]), rho(cloned_layers[2*l].get_weights()[1])])\n",
    "        #Execute forward pass\n",
    "        z = cloned_layers[2*l](B[l])\n",
    "        z = incr(cloned_layers[2*l+1](z))\n",
    "        # Element-wise division between relevance of the next layer and z\n",
    "        s = (R[l+1]/z)\n",
    "        \n",
    "        s = tf.reshape(s, z.shape)\n",
    "        # Calculate the gradient and multiply it by the activation\n",
    "        c = tape.gradient(tf.reduce_sum(z*s.numpy()), B[l])\n",
    "        # Assign new relevance values\n",
    "        R[l] = (B[l]*c)"
   ]
  },
  {
   "cell_type": "code",
   "execution_count": 78,
   "id": "ddb60a6d",
   "metadata": {},
   "outputs": [
    {
     "data": {
      "image/png": "[encoded data removed]",
      "text/plain": [
       "<Figure size 720x720 with 1 Axes>"
      ]
     },
     "metadata": {
      "needs_background": "light"
     },
     "output_type": "display_data"
    },
    {
     "data": {
      "text/plain": [
       "<Figure size 432x288 with 0 Axes>"
      ]
     },
     "metadata": {},
     "output_type": "display_data"
    }
   ],
   "source": [
    "#Plots relevances as normalized and take absolute value\n",
    "normal_rel = np.empty_like(R[0])\n",
    "#Normalizes relevances for each sample\n",
    "normal_rel = R[0]/np.sum(R[0], 1)[:, np.newaxis]\n",
    "relevances = np.nanmean(np.abs(normal_rel), 0) #Takes mean across all jets\n",
    "df_bkg_rel = pd.DataFrame(dict(params=params, rels=relevances))\n",
    "df_bkg_rel_sorted = df_bkg_rel.sort_values('rels')\n",
    "fig = plt.figure(figsize = (10, 10))\n",
    "# creating the bar plot\n",
    "max_display = 20\n",
    "plt.barh('params', 'rels', data = df_bkg_rel_sorted.tail(max_display), color ='blue')\n",
    "plt.tight_layout()\n",
    "plt.xlabel(\"Relevance Score\")\n",
    "plt.ylabel(\"Parameters\")\n",
    "plt.title(\"TopoDNN Background LRP values\")\n",
    "plt.show()\n",
    "#Saves plot\n",
    "plt.savefig(\"figures/LRP_bkg.png\", dpi = 150, bbox_inches='tight')"
   ]
  },
  {
   "cell_type": "code",
   "execution_count": null,
   "id": "20ddc032",
   "metadata": {},
   "outputs": [],
   "source": []
  }
 ],
 "metadata": {
  "kernelspec": {
   "display_name": "Python 3 (ipykernel)",
   "language": "python",
   "name": "python3"
  },
  "language_info": {
   "codemirror_mode": {
    "name": "ipython",
    "version": 3
   },
   "file_extension": ".py",
   "mimetype": "text/x-python",
   "name": "python",
   "nbconvert_exporter": "python",
   "pygments_lexer": "ipython3",
   "version": "3.9.12"
  }
 },
 "nbformat": 4,
 "nbformat_minor": 5
}
